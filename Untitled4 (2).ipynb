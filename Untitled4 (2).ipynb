{
  "cells": [
    {
      "cell_type": "code",
      "execution_count": 1,
      "metadata": {
        "colab": {
          "base_uri": "https://localhost:8080/"
        },
        "id": "y_HBXkyZrt2r",
        "outputId": "de91acb8-0dc0-49c3-8218-706c193cc985"
      },
      "outputs": [
        {
          "name": "stdout",
          "output_type": "stream",
          "text": [
            "         symbol          isin  trade_date exchange segment series trade_type  \\\n",
            "0    TATAMOTORS  INE155A01022  10-11-2020      NSE      EQ     EQ        buy   \n",
            "1    TATAMOTORS  INE155A01022  10-11-2020      NSE      EQ     EQ        buy   \n",
            "2    TATAMOTORS  INE155A01022  10-11-2020      NSE      EQ     EQ        buy   \n",
            "3    TATAMOTORS  INE155A01022  10-11-2020      NSE      EQ     EQ        buy   \n",
            "4     IBREALEST  INE069I01010  13-11-2020      NSE      EQ     EQ        buy   \n",
            "..          ...           ...         ...      ...     ...    ...        ...   \n",
            "130    ALOKINDS  INE270A01029  15-06-2021      NSE      EQ     EQ        buy   \n",
            "131    RPOWER-T  INE614G01033  25-06-2021      BSE      EQ      T        buy   \n",
            "132  TATACOFFEE  INE493A01027  19-10-2021      NSE      EQ     EQ        buy   \n",
            "133   GRAVITY-X  INE995A01013  20-10-2021      BSE      EQ      X        buy   \n",
            "134   GRAVITY-X  INE995A01013  20-10-2021      BSE      EQ      X        buy   \n",
            "\n",
            "     quantity   price  trade_id      order_id order_execution_time  \n",
            "0          80  143.15  75300514  1.300000e+15  2020-11-10T09:22:21  \n",
            "1         126  143.15  75300469  1.300000e+15  2020-11-10T09:22:21  \n",
            "2         100  143.15  75300408  1.300000e+15  2020-11-10T09:22:21  \n",
            "3         197  143.15  75300544  1.300000e+15  2020-11-10T09:22:22  \n",
            "4         300   60.90  25131837  1.100000e+15  2020-11-13T09:17:36  \n",
            "..        ...     ...       ...           ...                  ...  \n",
            "130        30   30.80   2619537  1.000000e+15  2021-06-15T11:01:11  \n",
            "131        26   15.24  20422200  1.624590e+18  2021-06-25T14:48:42  \n",
            "132        25  247.85  80406779  1.300000e+15  2021-10-19T12:13:52  \n",
            "133        52    5.51  22252200  1.634700e+18  2021-10-20T14:23:52  \n",
            "134       500    5.65  22561900  1.634700e+18  2021-10-20T14:28:19  \n",
            "\n",
            "[135 rows x 12 columns]\n"
          ]
        }
      ],
      "source": [
        "import pandas as pd\n",
        "import numpy as np\n",
        "df=pd.read_csv('tradebook-JC9287_conv.csv')\n",
        "print(df)"
      ]
    },
    {
      "cell_type": "code",
      "execution_count": null,
      "metadata": {
        "colab": {
          "base_uri": "https://localhost:8080/",
          "height": 520
        },
        "id": "yQuVVo-HDLXp",
        "outputId": "feda52fb-05f1-4cee-ecf8-96af0e2ae651"
      },
      "outputs": [
        {
          "name": "stdout",
          "output_type": "stream",
          "text": [
            "         symbol          isin  ...      order_id order_execution_time\n",
            "0    TATAMOTORS  INE155A01022  ...  1.300000e+15  2020-11-10T09:22:21\n",
            "1    TATAMOTORS  INE155A01022  ...  1.300000e+15  2020-11-10T09:22:21\n",
            "2    TATAMOTORS  INE155A01022  ...  1.300000e+15  2020-11-10T09:22:21\n",
            "3    TATAMOTORS  INE155A01022  ...  1.300000e+15  2020-11-10T09:22:22\n",
            "4     IBREALEST  INE069I01010  ...  1.100000e+15  2020-11-13T09:17:36\n",
            "..          ...           ...  ...           ...                  ...\n",
            "130    ALOKINDS  INE270A01029  ...  1.000000e+15  2021-06-15T11:01:11\n",
            "131    RPOWER-T  INE614G01033  ...  1.624590e+18  2021-06-25T14:48:42\n",
            "132  TATACOFFEE  INE493A01027  ...  1.300000e+15  2021-10-19T12:13:52\n",
            "133   GRAVITY-X  INE995A01013  ...  1.634700e+18  2021-10-20T14:23:52\n",
            "134   GRAVITY-X  INE995A01013  ...  1.634700e+18  2021-10-20T14:28:19\n",
            "\n",
            "[135 rows x 12 columns]\n"
          ]
        },
        {
          "data": {
            "image/png": "[encoded data removed]",
            "text/plain": [
              "<Figure size 432x288 with 2 Axes>"
            ]
          },
          "metadata": {
            "needs_background": "light"
          },
          "output_type": "display_data"
        }
      ],
      "source": [
        "# import pandas as pd\n",
        "# import numpy as np\n",
        "\n",
        "# # df = pd.DataFrame({'close':[4724.89, 4378.51,6463.00,9838.96,13716.36,10285.10,\n",
        "# #                           10326.76,6923.91,9246.01,7485.01,6390.07,7730.93,\n",
        "# #                           7011.21,6626.57,6371.93,4041.32,3702.90,3434.10,\n",
        "# #                           3813.69,4103.95,5320.81,8555.00,10854.10]})\n",
        "# df=pd.read_csv('/content/tradebook-JC9287_conv.csv')\n",
        "# print(df)\n",
        "n = 14\n",
        "\n",
        "\n",
        "def rma(x, n, y0):\n",
        "    a = (n-1) / n\n",
        "    ak = a**np.arange(len(x)-1, -1, -1)\n",
        "    return np.r_[np.full(n, np.nan), y0, np.cumsum(ak * x) / ak / n + y0 * a**np.arange(1, len(x)+1)]\n",
        "\n",
        "df['change'] = df['price'].diff()\n",
        "df['gain'] = df.change.mask(df.change < 0, 0.0)\n",
        "df['loss'] = -df.change.mask(df.change > 0, -0.0)\n",
        "df['avg_gain'] = rma(df.gain[n+1:].to_numpy(), n, np.nansum(df.gain.to_numpy()[:n+1])/n)\n",
        "df['avg_loss'] = rma(df.loss[n+1:].to_numpy(), n, np.nansum(df.loss.to_numpy()[:n+1])/n)\n",
        "df['rs'] = df.avg_gain / df.avg_loss\n",
        "df['rsi_14'] = 100 - (100 / (1 + df.rs))\n",
        "\n",
        "import pandas_datareader as pdr\n",
        "from datetime import datetime\n",
        "import matplotlib.pyplot as plt\n",
        "fig, (ax1, ax2) = plt.subplots(2)\n",
        "ax1.get_xaxis().set_visible(False)\n",
        "\n",
        "\n",
        "df['price'].plot(ax=ax1)\n",
        "ax1.set_ylabel('Price (Rs)')\n",
        "df['rsi_14'].plot(ax=ax2)\n",
        "ax2.set_ylim(0,100)\n",
        "ax2.axhline(30, color='r', linestyle='--')\n",
        "ax2.axhline(70, color='r', linestyle='--')\n",
        "ax2.set_ylabel('RSI')\n",
        "\n",
        "plt.show()"
      ]
    },
    {
      "cell_type": "code",
      "execution_count": 28,
      "metadata": {
        "colab": {
          "base_uri": "https://localhost:8080/"
        },
        "id": "g6AA_elEom5W",
        "outputId": "518b44a1-de09-43a0-ab7b-7f928fa700f8"
      },
      "outputs": [
        {
          "name": "stdout",
          "output_type": "stream",
          "text": [
            "         symbol          isin  ... order_execution_time total cost\n",
            "0    TATAMOTORS  INE155A01022  ...  2020-11-10T09:22:21   11452.00\n",
            "1    TATAMOTORS  INE155A01022  ...  2020-11-10T09:22:21   18036.90\n",
            "2    TATAMOTORS  INE155A01022  ...  2020-11-10T09:22:21   14315.00\n",
            "3    TATAMOTORS  INE155A01022  ...  2020-11-10T09:22:22   28200.55\n",
            "4     IBREALEST  INE069I01010  ...  2020-11-13T09:17:36   18270.00\n",
            "..          ...           ...  ...                  ...        ...\n",
            "130    ALOKINDS  INE270A01029  ...  2021-06-15T11:01:11     924.00\n",
            "131    RPOWER-T  INE614G01033  ...  2021-06-25T14:48:42     396.24\n",
            "132  TATACOFFEE  INE493A01027  ...  2021-10-19T12:13:52    6196.25\n",
            "133   GRAVITY-X  INE995A01013  ...  2021-10-20T14:23:52     286.52\n",
            "134   GRAVITY-X  INE995A01013  ...  2021-10-20T14:28:19    2825.00\n",
            "\n",
            "[135 rows x 13 columns]\n"
          ]
        }
      ],
      "source": [
        "df2=df.copy(deep=True)\n",
        "df2['total cost']=df2['quantity']*df2['price']\n"
      ]
    },
    {
      "cell_type": "code",
      "execution_count": 29,
      "metadata": {
        "id": "ThDjQswTzktX"
      },
      "outputs": [],
      "source": [
        "df2.loc[df2['trade_type'] == 'buy', 'total cost'] = 0 - df2.loc[df2['trade_type'] == 'buy', 'total cost']"
      ]
    },
    {
      "cell_type": "code",
      "execution_count": 31,
      "metadata": {
        "colab": {
          "base_uri": "https://localhost:8080/"
        },
        "id": "DNF2Dn28sX96",
        "outputId": "1dcf504c-bad3-43d7-d8aa-76b7469ebc0b"
      },
      "outputs": [
        {
          "name": "stdout",
          "output_type": "stream",
          "text": [
            "    trade_date  total cost\n",
            "0   2020-10-11   -11452.00\n",
            "1   2020-10-11   -18036.90\n",
            "2   2020-10-11   -14315.00\n",
            "3   2020-10-11   -28200.55\n",
            "4   2020-11-13   -18270.00\n",
            "..         ...         ...\n",
            "130 2021-06-15     -924.00\n",
            "131 2021-06-25     -396.24\n",
            "132 2021-10-19    -6196.25\n",
            "133 2021-10-20     -286.52\n",
            "134 2021-10-20    -2825.00\n",
            "\n",
            "[135 rows x 2 columns]\n",
            "None\n"
          ]
        }
      ],
      "source": [
        "from datetime import date\n",
        "\n",
        "\n",
        "df2.drop(df2.columns.difference(['trade_date','total cost']), 1, inplace=True)\n",
        "df2['trade_date']=pd.to_datetime(df2['trade_date'])\n",
        "\n",
        "\n",
        "\n",
        "\n"
      ]
    },
    {
      "cell_type": "code",
      "execution_count": 32,
      "metadata": {
        "id": "ZiqJOyF41AzP"
      },
      "outputs": [],
      "source": [
        "subset = df2[['trade_date', 'total cost']]\n"
      ]
    },
    {
      "cell_type": "code",
      "execution_count": 52,
      "metadata": {
        "id": "5gTtrZYz17ji"
      },
      "outputs": [],
      "source": [
        "subset1 = subset.groupby(\"trade_date\").sum(\"total cost\")"
      ]
    },
    {
      "cell_type": "code",
      "execution_count": 63,
      "metadata": {
        "id": "e8qbDhSw3So_"
      },
      "outputs": [],
      "source": [
        "all_days = pd.date_range(subset1.index.min(), subset1.index.max(), freq='D')\n",
        "subset2 = subset1.reindex(all_days, fill_value=0)"
      ]
    },
    {
      "cell_type": "code",
      "execution_count": 68,
      "metadata": {
        "colab": {
          "base_uri": "https://localhost:8080/"
        },
        "id": "XlvW2O9D4lOi",
        "outputId": "f05d2245-c634-4b2d-f2a9-12849075341e"
      },
      "outputs": [
        {
          "data": {
            "text/plain": [
              "-0.9705455408446275"
            ]
          },
          "execution_count": 68,
          "metadata": {},
          "output_type": "execute_result"
        }
      ],
      "source": [
        "subset2.head(693)[\"total cost\"].agg(np.irr)"
      ]
    },
    {
      "cell_type": "markdown",
      "metadata": {
        "id": "ED9xNxxc1H71"
      },
      "source": [
        "market cap\n"
      ]
    },
    {
      "cell_type": "code",
      "execution_count": 3,
      "metadata": {
        "colab": {
          "base_uri": "https://localhost:8080/"
        },
        "id": "7bPdGgj2aqYV",
        "outputId": "a5a7475f-7b57-4e9f-cd7d-d352f4d02fa4"
      },
      "outputs": [
        {
          "name": "stdout",
          "output_type": "stream",
          "text": [
            "                                                Sr. No.      Symbol  \\\n",
            "0                                                     1    RELIANCE   \n",
            "1                                                     2         TCS   \n",
            "2                                                     3    HDFCBANK   \n",
            "3                                                     4        INFY   \n",
            "4                                                     5  HINDUNILVR   \n",
            "...                                                 ...         ...   \n",
            "1917                                               1918   FOURTHDIM   \n",
            "1918                                               1919      ARTEDZ   \n",
            "1919                                               1920      BANSAL   \n",
            "1920                                                NaN         NaN   \n",
            "1921  Note: Kindly refer regulation 15 to 27 of SEBI...         NaN   \n",
            "\n",
            "                            Company Name Market capitalization \\n(Rs in Lakhs)  \n",
            "0            Reliance Industries Limited                             126985361  \n",
            "1      Tata Consultancy Services Limited                             117550304  \n",
            "2                      HDFC Bank Limited                              82341586  \n",
            "3                        Infosys Limited                              58277398  \n",
            "4             Hindustan Unilever Limited                              57129664  \n",
            "...                                  ...                                   ...  \n",
            "1917  Fourth Dimension Solutions Limited     * Not Traded as on March 31, 2021  \n",
            "1918                 Artedz Fabs Limited     * Not Traded as on March 31, 2021  \n",
            "1919            Bansal Multiflex Limited     * Not Traded as on March 31, 2021  \n",
            "1920                                 NaN                                   NaN  \n",
            "1921                                 NaN                                   NaN  \n",
            "\n",
            "[1922 rows x 4 columns]\n"
          ]
        }
      ],
      "source": [
        "cap=pd.read_csv('MCAP31032021_0_conv.csv')\n"
      ]
    },
    {
      "cell_type": "code",
      "execution_count": 5,
      "metadata": {
        "id": "AphJ3UZyb0Mc"
      },
      "outputs": [],
      "source": [
        "cap=cap.head(1793)"
      ]
    },
    {
      "cell_type": "code",
      "execution_count": 6,
      "metadata": {
        "id": "6q13Sm0kfFfA"
      },
      "outputs": [
        {
          "name": "stderr",
          "output_type": "stream",
          "text": [
            "C:\\Users\\PALAKB~1\\AppData\\Local\\Temp/ipykernel_16888/2115688663.py:1: SettingWithCopyWarning: \n",
            "A value is trying to be set on a copy of a slice from a DataFrame.\n",
            "Try using .loc[row_indexer,col_indexer] = value instead\n",
            "\n",
            "See the caveats in the documentation: https://pandas.pydata.org/pandas-docs/stable/user_guide/indexing.html#returning-a-view-versus-a-copy\n",
            "  cap['Market capitalization \\n(Rs in Lakhs)']=cap['Market capitalization \\n(Rs in Lakhs)'].astype(int)\n"
          ]
        }
      ],
      "source": [
        "cap['Market capitalization \\n(Rs in Lakhs)']=cap['Market capitalization \\n(Rs in Lakhs)'].astype(int)"
      ]
    },
    {
      "cell_type": "code",
      "execution_count": 8,
      "metadata": {
        "id": "nxn2lOmNXnA6"
      },
      "outputs": [
        {
          "name": "stderr",
          "output_type": "stream",
          "text": [
            "C:\\Users\\PALAKB~1\\AppData\\Local\\Temp/ipykernel_16888/879168538.py:6: SettingWithCopyWarning: \n",
            "A value is trying to be set on a copy of a slice from a DataFrame.\n",
            "Try using .loc[row_indexer,col_indexer] = value instead\n",
            "\n",
            "See the caveats in the documentation: https://pandas.pydata.org/pandas-docs/stable/user_guide/indexing.html#returning-a-view-versus-a-copy\n",
            "  cap['Market_Cap'] = np.vectorize(d.get)(np.digitize(cap['Market capitalization \\n(Rs in Lakhs)'], bins))\n"
          ]
        }
      ],
      "source": [
        "bins = [0, 50000, 700000, 2000000]\n",
        "names = ['Small Cap', 'Medium Cap', 'Large Cap', 'Mega Cap']\n",
        "\n",
        "d = dict(enumerate(names, 1))\n",
        "\n",
        "cap['Market_Cap'] = np.vectorize(d.get)(np.digitize(cap['Market capitalization \\n(Rs in Lakhs)'], bins))"
      ]
    },
    {
      "cell_type": "code",
      "execution_count": 9,
      "metadata": {
        "id": "p45pLR33gygV"
      },
      "outputs": [
        {
          "name": "stderr",
          "output_type": "stream",
          "text": [
            "C:\\Users\\PALAK BANSAL\\lib\\site-packages\\pandas\\core\\frame.py:5034: SettingWithCopyWarning: \n",
            "A value is trying to be set on a copy of a slice from a DataFrame\n",
            "\n",
            "See the caveats in the documentation: https://pandas.pydata.org/pandas-docs/stable/user_guide/indexing.html#returning-a-view-versus-a-copy\n",
            "  return super().rename(\n"
          ]
        }
      ],
      "source": [
        "cap.rename(columns={'Symbol': 'symbol'}, inplace=True)"
      ]
    },
    {
      "cell_type": "code",
      "execution_count": 10,
      "metadata": {
        "id": "fBmbarr9zP_s"
      },
      "outputs": [],
      "source": [
        "stockdf=df.copy(deep=True)"
      ]
    },
    {
      "cell_type": "code",
      "execution_count": 12,
      "metadata": {
        "id": "cLIeWLGLy2oE"
      },
      "outputs": [],
      "source": [
        "stockdf=stockdf.join(cap.set_index(\"symbol\"), how='left', on='symbol', lsuffix='x', rsuffix='y')"
      ]
    },
    {
      "cell_type": "code",
      "execution_count": 13,
      "metadata": {
        "id": "vXRMX75H0Rdq"
      },
      "outputs": [],
      "source": [
        "stockdf['Market_Cap']=stockdf['Market_Cap'].fillna('Other Cap')"
      ]
    },
    {
      "cell_type": "code",
      "execution_count": 14,
      "metadata": {
        "id": "3k3qBJScCcRQ"
      },
      "outputs": [],
      "source": [
        "stockdf['total_cost']=stockdf['quantity']*stockdf['price']\n",
        "stockdf.loc[stockdf['trade_type'] == 'sell', 'total_cost'] = 0 - stockdf.loc[stockdf['trade_type'] == 'sell', 'total_cost']"
      ]
    },
    {
      "cell_type": "code",
      "execution_count": 15,
      "metadata": {
        "id": "XtZwP_ZEDo0s"
      },
      "outputs": [],
      "source": [
        "stockdf=stockdf.groupby(\"Market_Cap\").sum(\"total_cost\")"
      ]
    },
    {
      "cell_type": "code",
      "execution_count": 16,
      "metadata": {
        "id": "6GNeMPd5EU0w"
      },
      "outputs": [],
      "source": [
        "stockdf=stockdf.reset_index()"
      ]
    },
    {
      "cell_type": "code",
      "execution_count": 18,
      "metadata": {
        "colab": {
          "base_uri": "https://localhost:8080/"
        },
        "id": "imsVurOVFVCn",
        "outputId": "0f4c920b-9bfa-4397-b4c9-36f9c5ad10ae"
      },
      "outputs": [],
      "source": [
        "from math import pi\n",
        "\n",
        "import pandas as pd\n",
        "\n",
        "from bokeh.palettes import Category20c\n",
        "from bokeh.plotting import figure, show\n",
        "from bokeh.transform import cumsum\n",
        "\n",
        "from bokeh.plotting import figure, show, output_notebook\n",
        "\n",
        "stockdf['angle'] = stockdf['total_cost']/stockdf['total_cost'].sum() * 2*pi\n",
        "stockdf['color'] = Category20c[len(stockdf)]\n",
        "plot = figure(height=350, title=\"Pie Chart\", toolbar_location=None,\n",
        "           tools=\"hover\", tooltips=\"@Market_Cap: @total_cost\")\n",
        "\n",
        "plot.wedge(x=0, y=1, radius=0.4,\n",
        "        start_angle=cumsum('angle', include_zero=True), end_angle=cumsum('angle'),\n",
        "        line_color=\"white\", fill_color='color', legend_field='Market_Cap', source=stockdf)\n",
        "\n",
        "plot.axis.axis_label = None\n",
        "plot.axis.visible = False\n",
        "plot.grid.grid_line_color = None\n",
        "\n",
        "# show(p)\n",
        "# output_notebook()\n",
        "show(plot)"
      ]
    }
  ],
  "metadata": {
    "colab": {
      "name": "Untitled4.ipynb",
      "provenance": []
    },
    "kernelspec": {
      "display_name": "Python 3",
      "name": "python3"
    },
    "language_info": {
      "codemirror_mode": {
        "name": "ipython",
        "version": 3
      },
      "file_extension": ".py",
      "mimetype": "text/x-python",
      "name": "python",
      "nbconvert_exporter": "python",
      "pygments_lexer": "ipython3",
      "version": "3.9.5"
    }
  },
  "nbformat": 4,
  "nbformat_minor": 0
}
